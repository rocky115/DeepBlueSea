{
 "cells": [
  {
   "cell_type": "markdown",
   "metadata": {},
   "source": [
    "######################################################################################\n",
    "Copyright (c) 2023, 2024 , Prof. Radhamadhab Dalai \n",
    "Odisha, India\n",
    "Author's email address :  dalai115@gmail.com\n",
    "#####################################################################################"
   ]
  },
  {
   "cell_type": "markdown",
   "metadata": {},
   "source": [
    "# Computational graph\n",
    "start by defining the concept of a computational graph, since neural networks are a special form thereof. A computational graph is a directed graph where the nodes correspond to **operations** or **variables**. Variables can feed their value into operations, and operations can feed their output into other operations. This way, every node in the graph defines a function of the variables.\n",
    "\n",
    "The values that are fed into the nodes and come out of the nodes are called <b>tensors</b>, which is just a fancy word for a multi-dimensional array. Hence, it subsumes scalars, vectors and matrices as well as tensors of a higher rank.\n",
    "\n",
    "Let's look at an example. The following computational graph computes the sum $z$ of two inputs $x$ and $y$. \n",
    "Here, $x$ and $y$ are input nodes to $z$ and $z$ is a consumer of $x$ and $y$. $z$ therefore defines a function $z : \\mathbb{R^2} \\rightarrow \\mathbb{R}$ where $z(x, y) = x + y$.\n",
    "\n",
    "<img src=\"addition.png?456\" style=\"height: 200px;\">\n",
    "\n",
    "The concept of a computational graph becomes more useful once the computations become more complex. For example, the following computational graph defines an affine transformation $z(A, x, b) = Ax + b$.\n",
    "\n",
    "<img src=\"affine_transformation.png\" style=\"height: 200px;\">\n",
    "\n",
    "## Operations\n",
    "\n",
    "Every operation is characterized by three things:\n",
    "- A `compute` function that computes the operation's output given values for the operation's inputs\n",
    "- A list of `input_nodes` which can be variables or other operations\n",
    "- A list of `consumers` that use the operation's output as their input\n",
    "\n",
    "Let's put this into code:"
   ]
  },
  {
   "cell_type": "code",
   "execution_count": 1,
   "metadata": {},
   "outputs": [],
   "source": [
    "class Operation:\n",
    "    \"\"\"Represents a graph node that performs a computation.\n",
    "    \n",
    "    An `Operation` is a node in a `Graph` that takes zero or\n",
    "    more objects as input, and produces zero or more objects\n",
    "    as output.\n",
    "    \"\"\"\n",
    "    \n",
    "    def __init__(self, input_nodes = []):\n",
    "        \"\"\"Construct Operation\n",
    "        \"\"\"\n",
    "        self.input_nodes = input_nodes\n",
    "        \n",
    "        # Initialize list of consumers (i.e. nodes that receive this operation's output as input)\n",
    "        self.consumers = []\n",
    "        \n",
    "        # Append this operation to the list of consumers of all input nodes\n",
    "        for input_node in input_nodes:\n",
    "            input_node.consumers.append(self)\n",
    "        \n",
    "        # Append this operation to the list of operations in the currently active default graph\n",
    "        _default_graph.operations.append(self)\n",
    "  \n",
    "    def compute(self):\n",
    "        \"\"\"Computes the output of this operation.\n",
    "        \"\" Must be implemented by the particular operation.\n",
    "        \"\"\"\n",
    "        pass"
   ]
  },
  {
   "cell_type": "markdown",
   "metadata": {},
   "source": [
    "### Some elementary operations\n",
    "\n",
    "Let's implement some elementary operations in order to become familiar with the `Operation` class (and because we will need them later).\n",
    "\n",
    "#### Addition"
   ]
  },
  {
   "cell_type": "code",
   "execution_count": 2,
   "metadata": {},
   "outputs": [],
   "source": [
    "class add(Operation):\n",
    "    \"\"\"Returns x + y element-wise.\n",
    "    \"\"\"\n",
    "    \n",
    "    def __init__(self, x, y):\n",
    "        \"\"\"Construct add\n",
    "        \n",
    "        Args:\n",
    "          x: First summand node\n",
    "          y: Second summand node\n",
    "        \"\"\"\n",
    "        super().__init__([x, y])\n",
    "\n",
    "    def compute(self, x_value, y_value):\n",
    "        \"\"\"Compute the output of the add operation\n",
    "        \n",
    "        Args:\n",
    "          x_value: First summand value\n",
    "          y_value: Second summand value\n",
    "        \"\"\"\n",
    "        self.inputs = [x_value, y_value]\n",
    "        return x_value + y_value"
   ]
  },
  {
   "cell_type": "markdown",
   "metadata": {},
   "source": [
    "#### Matrix multiplication"
   ]
  },
  {
   "cell_type": "code",
   "execution_count": 3,
   "metadata": {},
   "outputs": [],
   "source": [
    "class matmul(Operation):\n",
    "    \"\"\"Multiplies matrix a by matrix b, producing a * b.\n",
    "    \"\"\"\n",
    "    \n",
    "    def __init__(self, a, b):\n",
    "        \"\"\"Construct matmul\n",
    "        \n",
    "        Args:\n",
    "          a: First matrix\n",
    "          b: Second matrix\n",
    "        \"\"\"\n",
    "        super().__init__([a, b])\n",
    "    \n",
    "    def compute(self, a_value, b_value):\n",
    "        \"\"\"Compute the output of the matmul operation\n",
    "        \n",
    "        Args:\n",
    "          a_value: First matrix value\n",
    "          b_value: Second matrix value\n",
    "        \"\"\"\n",
    "        self.inputs = [a_value, b_value]\n",
    "        return a_value.dot(b_value)"
   ]
  },
  {
   "cell_type": "markdown",
   "metadata": {},
   "source": [
    "## Placeholders\n",
    "\n",
    "Not all the nodes in a computational graph are operations. For example, in the affine transformation graph, $A$, $x$ and $b$ are not operations. Rather, they are inputs to the graph that have to be supplied with a value once we want to compute the output of the graph. To provide such values, we introduce **placeholders**."
   ]
  },
  {
   "cell_type": "code",
   "execution_count": 4,
   "metadata": {},
   "outputs": [],
   "source": [
    "class placeholder:\n",
    "    \"\"\"Represents a placeholder node that has to be provided with a value\n",
    "       when computing the output of a computational graph\n",
    "    \"\"\"\n",
    "    def __init__(self):\n",
    "        \"\"\"Construct placeholder\n",
    "        \"\"\"\n",
    "        self.consumers = []\n",
    "        \n",
    "        # Append this placeholder to the list of placeholders in the currently active default graph\n",
    "        _default_graph.placeholders.append(self)"
   ]
  },
  {
   "cell_type": "markdown",
   "metadata": {},
   "source": [
    "## Variables\n",
    "\n",
    "In the affine transformation graph, there is a qualitative difference between $x$ on the one hand and $A$ and $b$ on the other hand. While $x$ is an input to the operation, $A$ and $b$ are <b>parameters</b> of the operation, i.e. they are intrinsic to the graph. We will refer to such parameters as <b>Variables</b>."
   ]
  },
  {
   "cell_type": "code",
   "execution_count": 5,
   "metadata": {},
   "outputs": [],
   "source": [
    "class Variable:\n",
    "    \"\"\"Represents a variable (i.e. an intrinsic, changeable parameter of a computational graph).\n",
    "    \"\"\"\n",
    "    \n",
    "    def __init__(self, initial_value = None):\n",
    "        \"\"\"Construct Variable\n",
    "        \n",
    "        Args:\n",
    "          initial_value: The initial value of this variable\n",
    "        \"\"\"\n",
    "        self.value = initial_value\n",
    "        self.consumers = []\n",
    "        \n",
    "        # Append this variable to the list of variables in the currently active default graph\n",
    "        _default_graph.variables.append(self)"
   ]
  },
  {
   "cell_type": "markdown",
   "metadata": {},
   "source": [
    "## The Graph class\n",
    "\n",
    "Finally, we'll need a class that bundles all the operations, placeholders and variables together. When creating a new graph, we can call its `as_default` method to set the `_default_graph` to this graph. This way, we can create operations, placeholders and variables without having to pass in a reference to the graph everytime."
   ]
  },
  {
   "cell_type": "code",
   "execution_count": 6,
   "metadata": {},
   "outputs": [],
   "source": [
    "class Graph:\n",
    "    \"\"\"Represents a computational graph\n",
    "    \"\"\"\n",
    "    \n",
    "    def __init__(self):\n",
    "        \"\"\"Construct Graph\"\"\"\n",
    "        self.operations = []\n",
    "        self.placeholders = []\n",
    "        self.variables = []\n",
    "        \n",
    "    def as_default(self):\n",
    "        global _default_graph\n",
    "        _default_graph = self"
   ]
  },
  {
   "cell_type": "markdown",
   "metadata": {},
   "source": [
    "## Example\n",
    "\n",
    "Let's now use the classes we have built to create a computational graph for the following affine transformation:\n",
    "\n",
    "$$\n",
    "z = \\begin{pmatrix}\n",
    "1 & 0 \\\\\n",
    "0 & -1\n",
    "\\end{pmatrix}\n",
    "\\cdot\n",
    "x\n",
    "+\n",
    "\\begin{pmatrix}\n",
    "1 \\\\\n",
    "1\n",
    "\\end{pmatrix}\n",
    "$$"
   ]
  },
  {
   "cell_type": "code",
   "execution_count": 7,
   "metadata": {},
   "outputs": [],
   "source": [
    "# Create a new graph\n",
    "Graph().as_default()\n",
    "\n",
    "# Create variables\n",
    "A = Variable([[1, 0], [0, -1]])\n",
    "b = Variable([1, 1])\n",
    "\n",
    "# Create placeholder\n",
    "x = placeholder()\n",
    "\n",
    "# Create hidden node y\n",
    "y = matmul(A, x)\n",
    "\n",
    "# Create output node z\n",
    "z = add(y, b)"
   ]
  },
  {
   "cell_type": "markdown",
   "metadata": {},
   "source": [
    "## Computing the output of an operation\n",
    "Now that we are confident creating computational graphs, we can start to think about how to compute the output of an operation.\n",
    "\n",
    "Let's create a Session class that encapsulates an execution of an operation. We would like to be able to create a session instance and call a `run` method on this instance, passing the operation that we want to compute and a dictionary containing values for the placeholders:\n",
    "\n",
    "    session = Session()\n",
    "    output = session.run(z, {\n",
    "        x: [1, 2]\n",
    "    })\n",
    "\n",
    "This should compute the following value:\n",
    "\n",
    "$$\n",
    "z = \\begin{pmatrix}\n",
    "1 & 0 \\\\\n",
    "0 & -1\n",
    "\\end{pmatrix}\n",
    "\\cdot\n",
    "\\begin{pmatrix}\n",
    "1 \\\\\n",
    "2\n",
    "\\end{pmatrix}\n",
    "+\n",
    "\\begin{pmatrix}\n",
    "1 \\\\\n",
    "1\n",
    "\\end{pmatrix}\n",
    "=\n",
    "\\begin{pmatrix}\n",
    "2 \\\\\n",
    "-1\n",
    "\\end{pmatrix}\n",
    "$$\n",
    "\n",
    "In order to compute the function represented by an operation, we need to apply the computations in the right order. For example, we cannot compute $z$ before we have computed $y$ as an intermediate result. Therefore, we have to make sure that the operations are carried out in the right order, such that the values of every node that is an input to an operation $o$ has been computed before $o$ is computed. This can be achieved via <a href=\"https://en.wikipedia.org/wiki/Tree_traversal#Post-order\" target=\"new\">post-order traversal</a>.\n"
   ]
  },
  {
   "cell_type": "code",
   "execution_count": 8,
   "metadata": {},
   "outputs": [],
   "source": [
    "import numpy as np\n",
    "\n",
    "class Session:\n",
    "    \"\"\"Represents a particular execution of a computational graph.\n",
    "    \"\"\"\n",
    "    \n",
    "    def run(self, operation, feed_dict = {}):\n",
    "        \"\"\"Computes the output of an operation\n",
    "        \n",
    "        Args:\n",
    "          operation: The operation whose output we'd like to compute.\n",
    "          feed_dict: A dictionary that maps placeholders to values for this session\n",
    "        \"\"\"\n",
    "        \n",
    "        # Perform a post-order traversal of the graph to bring the nodes into the right order\n",
    "        nodes_postorder = traverse_postorder(operation)\n",
    "        \n",
    "        # Iterate all nodes to determine their value\n",
    "        for node in nodes_postorder:\n",
    "\n",
    "            if type(node) == placeholder:\n",
    "                # Set the node value to the placeholder value from feed_dict\n",
    "                node.output = feed_dict[node]\n",
    "            elif type(node) == Variable:\n",
    "                # Set the node value to the variable's value attribute\n",
    "                node.output = node.value\n",
    "            else: # Operation\n",
    "                # Get the input values for this operation from node_values\n",
    "                node.inputs = [input_node.output for input_node in node.input_nodes]\n",
    "\n",
    "                # Compute the output of this operation\n",
    "                node.output = node.compute(*node.inputs)\n",
    "                \n",
    "            # Convert lists to numpy arrays\n",
    "            if type(node.output) == list:\n",
    "                node.output = np.array(node.output)\n",
    "        \n",
    "        # Return the requested node value\n",
    "        return operation.output\n",
    "\n",
    "\n",
    "def traverse_postorder(operation):\n",
    "    \"\"\"Performs a post-order traversal, returning a list of nodes\n",
    "    in the order in which they have to be computed\n",
    "    \n",
    "    Args:\n",
    "       operation: The operation to start traversal at\n",
    "    \"\"\"\n",
    "    \n",
    "    nodes_postorder = []\n",
    "    def recurse(node):\n",
    "        if isinstance(node, Operation):\n",
    "            for input_node in node.input_nodes:\n",
    "                recurse(input_node)\n",
    "        nodes_postorder.append(node)\n",
    "\n",
    "    recurse(operation)\n",
    "    return nodes_postorder"
   ]
  },
  {
   "cell_type": "markdown",
   "metadata": {},
   "source": [
    "Let's test our class on the example from above:"
   ]
  },
  {
   "cell_type": "code",
   "execution_count": 9,
   "metadata": {},
   "outputs": [
    {
     "name": "stdout",
     "output_type": "stream",
     "text": [
      "[ 2 -1]\n"
     ]
    }
   ],
   "source": [
    "session = Session()\n",
    "output = session.run(z, {\n",
    "    x: [1, 2]\n",
    "})\n",
    "print(output)"
   ]
  },
  {
   "cell_type": "markdown",
   "metadata": {},
   "source": [
    "Looks good."
   ]
  },
  {
   "cell_type": "markdown",
   "metadata": {},
   "source": [
    "# Perceptrons\n",
    "\n",
    "## A motivating example\n",
    "\n",
    "Perceptrons are a miniature form of neural network and a basic building block of more complex architectures. Before going into the details, let's motivate them by an example. Assume that we are given a dataset consisting of 100 points in the plane. Half of the points are red and half of the points are blue."
   ]
  },
  {
   "cell_type": "code",
   "execution_count": 22,
   "metadata": {},
   "outputs": [
    {
     "data": {
      "image/png": "[encoded data removed]",
      "text/plain": [
       "<matplotlib.figure.Figure at 0x1173988d0>"
      ]
     },
     "metadata": {},
     "output_type": "display_data"
    }
   ],
   "source": [
    "import matplotlib.pyplot as plt\n",
    "\n",
    "# Create red points centered at (-2, -2)\n",
    "red_points = np.random.randn(50, 2) - 2*np.ones((50, 2))\n",
    "\n",
    "# Create blue points centered at (2, 2)\n",
    "blue_points = np.random.randn(50, 2) + 2*np.ones((50, 2))\n",
    "\n",
    "# Plot them\n",
    "plt.scatter(red_points[:,0], red_points[:,1], color='red')\n",
    "plt.scatter(blue_points[:,0], blue_points[:,1], color='blue')\n",
    "plt.show()"
   ]
  },
  {
   "cell_type": "markdown",
   "metadata": {},
   "source": [
    "As we can see, the red points are centered at $(-2, -2)$ and the blue points are centered at $(2, 2)$. Now, having seen this data, we can ask ourselves whether there is a way to determine if a point should be red or blue. For example, if someone asks us what the color of the point $(3, 2)$ should be, we'd best respond with blue. Even though this point was not part of the data we have seen, we can infer this since it is located in the blue region of the space.\n",
    "\n",
    "But what is the general rule to determine if a point is more likely to be blue than red? Apparently, we can draw a line $y = -x$ that nicely separates the space into a red region and a blue region:"
   ]
  },
  {
   "cell_type": "code",
   "execution_count": 24,
   "metadata": {
    "scrolled": true
   },
   "outputs": [
    {
     "data": {
      "image/png": "[encoded data removed]",
      "text/plain": [
       "<matplotlib.figure.Figure at 0x11af22390>"
      ]
     },
     "metadata": {},
     "output_type": "display_data"
    }
   ],
   "source": [
    "# Plot a line y = -x\n",
    "x_axis = np.linspace(-4, 4, 100)\n",
    "y_axis = -x_axis\n",
    "plt.plot(x_axis, y_axis)\n",
    "\n",
    "# Add the red and blue points\n",
    "plt.scatter(red_points[:,0], red_points[:,1], color='red')\n",
    "plt.scatter(blue_points[:,0], blue_points[:,1], color='blue')\n",
    "plt.show()"
   ]
  },
  {
   "cell_type": "markdown",
   "metadata": {},
   "source": [
    "We can implicitly represent this line using a <b>weight vector</b> $w$ and a <b>bias</b> $b$. The line then corresponds to the set of points $x$ where\n",
    "\n",
    "$$w^T x + b = 0.$$\n",
    "\n",
    "In the case above, we have $w = (1, 1)^T$ and $b = 0$. Now, in order to test whether the point is blue or red, we just have to check whether it is above or below the line. This can be achieved by checking the sign of $w^T x + b$. If it is positive, then $x$ is above the line. If it is negative, then $x$ is below the line. Let's perform this test for our example point $(3, 2)^T$:\n",
    "\n",
    "$$\n",
    "\\begin{pmatrix}\n",
    "1 & 1\n",
    "\\end{pmatrix}\n",
    "\\cdot \\begin{pmatrix}\n",
    "3 \\\\\n",
    "2\n",
    "\\end{pmatrix} = 5\n",
    "$$\n",
    "\n",
    "Since 5 > 0, we know that the point is above the line and, therefore, should be classified as blue.\n",
    "\n",
    "## Perceptron definition\n",
    "\n",
    "In general terms, a <b>classifier</b> is a function $\\hat{c} : \\mathbb{R}^d \\rightarrow \\{1, 2, ..., C\\}$ that maps a point onto one of $C$ classes. A <b>binary classifier</b> is a classifier where $C = 2$, i.e. we have two classes. A <b>perceptron</b> with weight $w \\in \\mathbb{R}^d$ and bias $b \\in \\mathbb{R}^d$ is a binary classifier where\n",
    "\n",
    "$$\n",
    "  \\hat{c}(x) = \n",
    "  \\begin{cases}\n",
    "    1, & \\text{if } w^T x + b \\geq 0 \\\\\n",
    "    2, & \\text{if } w^T x + b < 0\n",
    "  \\end{cases}\n",
    "$$\n",
    "\n",
    "$\\hat{c}$ partitions $\\mathbb{R}^d$ into two half-spaces, each corresponding to one of the two classes. In the 2-dimensional example above, the partitioning is along a line. In general, the partitioning is along a $d-1$ dimensional hyperplane."
   ]
  },
  {
   "cell_type": "markdown",
   "metadata": {},
   "source": [
    "## From classes to probabilities\n",
    "\n",
    "Depending on the application, we may be interested not only in determining the most likely class of a point, but also the probability with which it belongs to that class. Note that the higher the value of $w^T x + b$, the higher is its distance to the separating line and, therefore, the higher is our confidence that it belongs to the blue class. But this value can be arbitrarily high. In order to turn this value into a probability, we need to \"squash\" the values to lie between 0 and 1. One way to do this is by applying the <b>sigmoid</b> function $\\sigma$:\n",
    "\n",
    "$$p(\\hat{c}(x) = 1 \\mid x) = \\sigma(w^T x + b)$$ where $$\\sigma(a) = \\frac{1}{1 + e^{-a}}$$\n",
    "\n",
    "Let's take a look at what the sigmoid function looks like:"
   ]
  },
  {
   "cell_type": "code",
   "execution_count": 25,
   "metadata": {},
   "outputs": [
    {
     "data": {
      "image/png": "[encoded data removed]",
      "text/plain": [
       "<matplotlib.figure.Figure at 0x11afc9978>"
      ]
     },
     "metadata": {},
     "output_type": "display_data"
    }
   ],
   "source": [
    "# Create an interval from -5 to 5 in steps of 0.01\n",
    "a = np.arange(-5, 5, 0.01)\n",
    "\n",
    "# Compute corresponding sigmoid function values\n",
    "s = 1 / (1 + np.exp(-a))\n",
    "\n",
    "# Plot them\n",
    "plt.plot(a, s)\n",
    "plt.grid(True)\n",
    "plt.show()"
   ]
  },
  {
   "cell_type": "markdown",
   "metadata": {},
   "source": [
    "As we can see, the sigmoid function assigns a probability of 0.5 to values where $w^T x + b = 0$ (i.e. points on the line) and asymptotes towards 1 the higher the value of $w^T x + b$ becomes, and towards 0 the lower it becomes, which is exactly what we want.\n",
    "\n",
    "Let's now define the sigmoid function as an operation, since we'll need it later:"
   ]
  },
  {
   "cell_type": "code",
   "execution_count": 26,
   "metadata": {},
   "outputs": [],
   "source": [
    "class sigmoid(Operation):\n",
    "    \"\"\"Returns the sigmoid of x element-wise.\n",
    "    \"\"\"\n",
    "    \n",
    "    def __init__(self, a):\n",
    "        \"\"\"Construct sigmoid\n",
    "        \n",
    "        Args:\n",
    "          a: Input node\n",
    "        \"\"\"\n",
    "        super().__init__([a])\n",
    "\n",
    "    def compute(self, a_value):\n",
    "        \"\"\"Compute the output of the sigmoid operation\n",
    "        \n",
    "        Args:\n",
    "          a_value: Input value\n",
    "        \"\"\"\n",
    "        return 1 / (1 + np.exp(-a_value))"
   ]
  },
  {
   "cell_type": "markdown",
   "metadata": {},
   "source": [
    "The entire computational graph of the perceptron now looks as follows:\n",
    "\n",
    "<img src='perceptron.png?1' style='height: 150px;'>"
   ]
  },
  {
   "cell_type": "markdown",
   "metadata": {},
   "source": [
    "### Example\n",
    "\n",
    "Using what we have learned, we can now build a perceptron for the red/blue example in Python."
   ]
  },
  {
   "cell_type": "code",
   "execution_count": 27,
   "metadata": {},
   "outputs": [],
   "source": [
    "# Create a new graph\n",
    "Graph().as_default()\n",
    "\n",
    "x = placeholder()\n",
    "w = Variable([1, 1])\n",
    "b = Variable(0)\n",
    "p = sigmoid( add(matmul(w, x), b) )"
   ]
  },
  {
   "cell_type": "markdown",
   "metadata": {},
   "source": [
    "Let's use this perceptron to compute the probability that $(3, 2)^T$ is a blue point:"
   ]
  },
  {
   "cell_type": "code",
   "execution_count": 28,
   "metadata": {},
   "outputs": [
    {
     "name": "stdout",
     "output_type": "stream",
     "text": [
      "0.993307149076\n"
     ]
    }
   ],
   "source": [
    "session = Session()\n",
    "print(session.run(p, {\n",
    "    x: [3, 2]\n",
    "}))"
   ]
  },
  {
   "cell_type": "markdown",
   "metadata": {},
   "source": [
    "## Multi-class perceptron\n",
    "\n",
    "So far, we have used the perceptron as a binary classifier, telling us the probability $p$ that a point $x$ belongs to one of two classes. The probability of $x$ belonging to the respective other class is then given by $1-p$. Generally, however, we have more than two classes. For example, when classifying an image, there may be numerous output classes (dog, chair, human, house, ...). We can extend the perceptron to compute multiple output probabilities.\n",
    "\n",
    "Let $C$ denote the number of output classes. Instead of a weight vector $w$, we introduce a weight matrix $W \\in \\mathbb{R}^{d \\times C}$. Each column of the weight matrix contains the weights of a separate linear classifier - one for each class. Instead of the dot product $w^T x$, we compute $x \\, W$, which returns a vector in $\\mathbb{R}^C$, each of whose entries can be seen as the output of the dot product for a different column of the weight matrix. To this, we add a bias vector $b \\in \\mathbb{R}^m$, containing a distinct bias for each output class. This then yields a vector in $\\mathbb{R}^C$ containing the probabilities for each of the $C$ classes.\n",
    "\n",
    "While this procedure may seem complicated, the matrix multiplication actually just performs multiple linear classifications in parallel, one for each of the $C$ classes - each one with its own separating line, given by a weight vector (one column of $W$) and a bias (one entry of $b$).\n",
    "\n",
    "<img src='perceptron2.png?1' style='height: 150px;'>\n",
    "\n",
    "### Softmax\n",
    "\n",
    "While the original perceptron yielded a single scalar value that we squashed through a sigmoid to obtain a probability between 0 and 1, the multi-class perceptron yields a vector $a \\in \\mathbb{R}^m$. The higher the i-th entry of $a$, the higher is our confidence that the input point belongs to the i-th class. We would like to turn $a$ into a vector of probabilities, such that the probability for every class lies between 0 and 1 and the probabilities for all classes sum up to 1.\n",
    "\n",
    "A common way to do this is to use the <b>softmax function</b>, which is a generalization of the sigmoid to multiple output classes:\n",
    "\n",
    "$$\n",
    "\\sigma(a)_i = \\frac{e^{a_i}}{\\sum_{j = 1}^C e^{a_j}}\n",
    "$$"
   ]
  },
  {
   "cell_type": "code",
   "execution_count": 54,
   "metadata": {
    "collapsed": true
   },
   "outputs": [],
   "source": [
    "class softmax(Operation):\n",
    "    \"\"\"Returns the softmax of a.\n",
    "    \"\"\"\n",
    "    \n",
    "    def __init__(self, a):\n",
    "        \"\"\"Construct softmax\n",
    "        \n",
    "        Args:\n",
    "          a: Input node\n",
    "        \"\"\"\n",
    "        super().__init__([a])\n",
    "\n",
    "    def compute(self, a_value):\n",
    "        \"\"\"Compute the output of the softmax operation\n",
    "        \n",
    "        Args:\n",
    "          a_value: Input value\n",
    "        \"\"\"\n",
    "        return np.exp(a_value) / np.sum(np.exp(a_value), axis = 1)[:,None]"
   ]
  },
  {
   "cell_type": "markdown",
   "metadata": {},
   "source": [
    "### Batch computation\n",
    "\n",
    "The matrix form allows us to feed in more than one point at a time. That is, instead of a single point $x$, we could feed in a matrix $X \\in \\mathbb{R}^{N \\times d}$ containing one point per row (i.e. $N$ rows of $d$-dimensional points). We refer to such a matrix as a <b>batch</b>. Instead of $xW$, we compute $XW$. This returns an $N \\times C$ matrix, each of whose rows contains $xW$ for one point $x$. To each row, we add a bias vector $b$, which is now an $1 \\times m$ row vector. The whole procedure thus computes a function $f : \\mathbb{R}^{N \\times d} \\rightarrow \\mathbb{R}^{m}$ where $f(X) = \\sigma(XW + b)$. The computational graph looks as follows:\n",
    "\n",
    "<img src='perceptron3.png?2' style='height: 150px;'>\n",
    "\n",
    "### Example\n",
    "\n",
    "Let's now generalize our red/blue perceptron to allow for batch computation and multiple output classes."
   ]
  },
  {
   "cell_type": "code",
   "execution_count": 30,
   "metadata": {},
   "outputs": [],
   "source": [
    "# Create a new graph\n",
    "Graph().as_default()\n",
    "\n",
    "X = placeholder()\n",
    "\n",
    "# Create a weight matrix for 2 output classes:\n",
    "# One with a weight vector (1, 1) for blue and one with a weight vector (-1, -1) for red\n",
    "W = Variable([\n",
    "    [1, -1],\n",
    "    [1, -1]\n",
    "])\n",
    "b = Variable([0, 0])\n",
    "p = softmax( add(matmul(X, W), b) )"
   ]
  },
  {
   "cell_type": "code",
   "execution_count": 31,
   "metadata": {},
   "outputs": [
    {
     "name": "stdout",
     "output_type": "stream",
     "text": [
      "[[  9.99999755e-01   2.44965755e-07]\n",
      " [  9.99916451e-01   8.35491458e-05]\n",
      " [  9.99110095e-01   8.89905403e-04]\n",
      " [  9.94318073e-01   5.68192656e-03]\n",
      " [  9.99775215e-01   2.24785117e-04]\n",
      " [  9.97613720e-01   2.38628020e-03]\n",
      " [  9.99997742e-01   2.25787019e-06]\n",
      " [  9.99985996e-01   1.40037056e-05]\n",
      " [  9.99539500e-01   4.60499987e-04]\n",
      " [  9.99876553e-01   1.23447085e-04]]\n"
     ]
    }
   ],
   "source": [
    "# Create a session and run the perceptron on our blue/red points\n",
    "session = Session()\n",
    "output_probabilities = session.run(p, {\n",
    "    X: np.concatenate((blue_points, red_points))\n",
    "})\n",
    "\n",
    "# Print the first 10 lines, corresponding to the probabilities of the first 10 points\n",
    "print(output_probabilities[:10])"
   ]
  },
  {
   "cell_type": "markdown",
   "metadata": {},
   "source": [
    "Since the first 10 points in our data are all blue, the perceptron outputs high probabilities for blue (left column) and low probabilities for red (right column), as expected."
   ]
  },
  {
   "cell_type": "markdown",
   "metadata": {},
   "source": [
    "# Training criterion\n",
    "\n",
    "Great, so now we are able to classify points using a linear classifier and compute the probability that the point belongs to a certain class, provided that we know the appropriate parameters for the weight matrix $W$ and bias $b$. The natural question that arises is how to come up with appropriate values for these. In the red/blue example, we just looked at the training points and guessed a line that nicely separated the training points. But generally we do not want to specify the separating line by hand. Rather, we just want to supply the training points to the computer and let it come up with a good separating line on its own. But how do we judge whether a separating line is good or bad?\n",
    "\n",
    "## The misclassification rate\n",
    "\n",
    "Ideally, we want to find a line that makes as few errors as possible. For every point $x$ and class $c(x)$ drawn from the true but unknown data-generating distribution $p_\\text{data}(x, c(x))$, we want to minimize the probability that our perceptron classifies it incorrectly - the <b>probability of misclassification</b>:\n",
    "\n",
    "$$\\underset{W, b}{\\operatorname{argmin}} p(\\hat{c}(x) \\neq c(x) \\mid x, c(x) \\, \\tilde{} \\, p_\\text{data} )$$\n",
    "\n",
    "Generally, we do not know the data-generating distribution $p_\\text{data}$, so it is impossible to compute the exact probability of misclassification. Instead, we are given a finite list of $N$ <b>training points</b> consisting of the values of $x$ with their corresponding classes. In the following, we represent the list of training points as a matrix $X \\in \\mathbb{R}^{N \\times d}$ where each row corresponds to one training point and each column to one dimension of the input space. Moreover, we represent the true classes as a matrix $c \\in \\mathbb{R}^{N \\times C}$ where $c_{i, j} = 1$ if the $i$-th training sample has class $j$. Similarly, we represent the predicted classes as a matrix $\\hat{c} \\in \\mathbb{R}^{N \\times C}$ where $\\hat{c}_{i, j} = 1$ if the $i$-th training sample has a predicted class $j$. Finally, we represent the output probabilities of our model as a matrix $p \\in \\mathbb{R}^{N \\times C}$ where $p_{i, j}$ contains the probability that the $i$-th training sample belongs to the j-th class.\n",
    "\n",
    "We could use the training data to find a classifier that minimizes the <b>misclassification rate</b> on the training samples:\n",
    "\n",
    "$$\n",
    "\\underset{W, b}{\\operatorname{argmin}} \\frac{1}{N} \\sum_{i = 1}^N I(\\hat{c}_i \\neq c_i)\n",
    "$$\n",
    "\n",
    "However, it turns out that finding a linear classifier that minimizes the misclassification rate is an intractable problem, i.e. its computational complexity is exponential in the number of input dimensions, rendering it unpractical. Moreover, even if we have found a classifier that minimizes the misclassification rate on the training samples, it might be possible to make the classifier more robust to unseen samples by pushing the classes further apart, even if this does not reduce the misclassification rate on the training samples."
   ]
  },
  {
   "cell_type": "markdown",
   "metadata": {},
   "source": [
    "## Maximum likelihood estimation\n",
    "\n",
    "An alternative is to use <a href=\"https://en.wikipedia.org/wiki/Maximum_likelihood_estimation\">maximum likelihood estimation</a>, where we try to find the parameters that maximize the probability of the training data:\n",
    "\n",
    "<div class=\"left_equation\" style=\"margin-top: 20px; padding-left: 50px;\">\n",
    "\\begin{align}\n",
    " \\underset{W, b}{\\operatorname{argmax}} p(\\hat{c} = c) \\\\\n",
    "\\end{align}\n",
    "\n",
    "\\begin{align}\n",
    "= \\underset{W, b}{\\operatorname{argmax}} \\prod_{i=1}^N p(\\hat{c}_i = c_i) \\\\\n",
    "\\end{align}\n",
    "\n",
    "\\begin{align}\n",
    "= \\underset{W, b}{\\operatorname{argmax}} \\prod_{i=1}^N \\prod_{j=1}^C  p_{i, j}^{I(c_i = j)} \\\\\n",
    "\\end{align}\n",
    "\n",
    "\\begin{align}\n",
    "= \\underset{W, b}{\\operatorname{argmax}} \\prod_{i=1}^N \\prod_{j=1}^C  p_{i, j}^{c_{i, j}} \\\\\n",
    "\\end{align}\n",
    "\n",
    "\\begin{align}\n",
    "= \\underset{W, b}{\\operatorname{argmax}} log \\prod_{i=1}^N \\prod_{j=1}^C  p_{i, j}^{c_{i, j}} \\\\\n",
    "\\end{align}\n",
    "\n",
    "\\begin{align}\n",
    "= \\underset{W, b}{\\operatorname{argmax}} \\sum_{i=1}^N \\sum_{j=1}^C c_{i, j} \\cdot log \\, p_{i, j} \\\\\n",
    "\\end{align}\n",
    "\n",
    "\\begin{align}\n",
    "= \\underset{W, b}{\\operatorname{argmin}} - \\sum_{i=1}^N \\sum_{j=1}^C c_{i, j} \\cdot log \\, p_{i, j} \\\\\n",
    "\\end{align}\n",
    "\n",
    "\n",
    "\\begin{align}\n",
    "= \\underset{W, b}{\\operatorname{argmin}} J\n",
    "\\end{align}\n",
    "\n",
    "</div>\n",
    "\n",
    "We refer to $J = - \\sum_{i=1}^N \\sum_{j=1}^C c_{i, j} \\cdot log \\, p_{i, j}$ as the <b>cross-entropy loss</b>. We want to minimize $J$.\n",
    "\n",
    "We can view $J$ as yet another operation in our computational graph that takes the input data $X$, the true classes $c$ and our predicted probabilities $p$ (which are the output of the $\\sigma$ operation) as input and computes a real number designating the loss:\n",
    "\n",
    "<img src=\"loss_graph.png\" style=\"height: 200px;\">"
   ]
  },
  {
   "cell_type": "markdown",
   "metadata": {},
   "source": [
    "## Building an operation that computes $J$\n",
    "\n",
    "We can build up $J$ from various more primitive operations. Using the element-wise matrix multiplication $\\odot$, we can rewrite $J$ as follows:\n",
    "\n",
    "$$\n",
    "- \\sum_{i=1}^N \\sum_{j=1}^C (c \\odot log \\, p)_{i, j}\n",
    "$$\n",
    "\n",
    "Going from the inside out, we can see that we need to implement the following operations:\n",
    "- $log$: The element-wise logarithm of a matrix or vector\n",
    "- $\\odot$: The element-wise product of two matrices\n",
    "- $\\sum_{j=1}^C$: Sum over the columns of a matrix\n",
    "- $\\sum_{i=1}^N$: Sum over the rows of a matrix\n",
    "- $-$: Taking the negative\n",
    "\n",
    "Let's implement these operations.\n",
    "\n",
    "### log\n",
    "This computes the element-wise logarithm of a tensor."
   ]
  },
  {
   "cell_type": "code",
   "execution_count": 32,
   "metadata": {
    "collapsed": true
   },
   "outputs": [],
   "source": [
    "class log(Operation):\n",
    "    \"\"\"Computes the natural logarithm of x element-wise.\n",
    "    \"\"\"\n",
    "    \n",
    "    def __init__(self, x):\n",
    "        \"\"\"Construct log\n",
    "        \n",
    "        Args:\n",
    "          x: Input node\n",
    "        \"\"\"\n",
    "        super().__init__([x])\n",
    "\n",
    "    def compute(self, x_value):\n",
    "        \"\"\"Compute the output of the log operation\n",
    "        \n",
    "        Args:\n",
    "          x_value: Input value\n",
    "        \"\"\"\n",
    "        return np.log(x_value)"
   ]
  },
  {
   "cell_type": "markdown",
   "metadata": {},
   "source": [
    "### multiply / $\\odot$\n",
    "This computes the element-wise product of two tensors of the same shape."
   ]
  },
  {
   "cell_type": "code",
   "execution_count": 33,
   "metadata": {
    "collapsed": true
   },
   "outputs": [],
   "source": [
    "class multiply(Operation):\n",
    "    \"\"\"Returns x * y element-wise.\n",
    "    \"\"\"\n",
    "    \n",
    "    def __init__(self, x, y):\n",
    "        \"\"\"Construct multiply\n",
    "        \n",
    "        Args:\n",
    "          x: First multiplicand node\n",
    "          y: Second multiplicand node\n",
    "        \"\"\"\n",
    "        super().__init__([x, y])\n",
    "\n",
    "    def compute(self, x_value, y_value):\n",
    "        \"\"\"Compute the output of the multiply operation\n",
    "        \n",
    "        Args:\n",
    "          x_value: First multiplicand value\n",
    "          y_value: Second multiplicand value\n",
    "        \"\"\"\n",
    "        return x_value * y_value"
   ]
  },
  {
   "cell_type": "markdown",
   "metadata": {},
   "source": [
    "### reduce_sum\n",
    "\n",
    "We'll implement the summation over rows, columns, etc. in a single operation where we specify an `axis`. This way, we can use the same method for all types of summations. For example, `axis = 0` sums over the rows, `axis = 1` sums over the columns, etc. This is exactly what `numpy.sum` does."
   ]
  },
  {
   "cell_type": "code",
   "execution_count": 34,
   "metadata": {
    "collapsed": true
   },
   "outputs": [],
   "source": [
    "class reduce_sum(Operation):\n",
    "    \"\"\"Computes the sum of elements across dimensions of a tensor.\n",
    "    \"\"\"\n",
    "    \n",
    "    def __init__(self, A, axis = None):\n",
    "        \"\"\"Construct reduce_sum\n",
    "        \n",
    "        Args:\n",
    "          A: The tensor to reduce.\n",
    "          axis: The dimensions to reduce. If `None` (the default), reduces all dimensions.\n",
    "        \"\"\"\n",
    "        super().__init__([A])\n",
    "        self.axis = axis\n",
    "\n",
    "    def compute(self, A_value):\n",
    "        \"\"\"Compute the output of the reduce_sum operation\n",
    "        \n",
    "        Args:\n",
    "          A_value: Input tensor value\n",
    "        \"\"\"\n",
    "        return np.sum(A_value, self.axis)"
   ]
  },
  {
   "cell_type": "markdown",
   "metadata": {},
   "source": [
    "### negative\n",
    "\n",
    "This computes the element-wise negative of a tensor."
   ]
  },
  {
   "cell_type": "code",
   "execution_count": 35,
   "metadata": {
    "collapsed": true
   },
   "outputs": [],
   "source": [
    "class negative(Operation):\n",
    "    \"\"\"Computes the negative of x element-wise.\n",
    "    \"\"\"\n",
    "    \n",
    "    def __init__(self, x):\n",
    "        \"\"\"Construct negative\n",
    "        \n",
    "        Args:\n",
    "          x: Input node\n",
    "        \"\"\"\n",
    "        super().__init__([x])\n",
    "\n",
    "    def compute(self, x_value):\n",
    "        \"\"\"Compute the output of the negative operation\n",
    "        \n",
    "        Args:\n",
    "          x_value: Input value\n",
    "        \"\"\"\n",
    "        return -x_value"
   ]
  },
  {
   "cell_type": "markdown",
   "metadata": {},
   "source": [
    "### Putting it all together\n",
    "Using these operations, we can now compute $J = - \\sum_{i=1}^N \\sum_{j=1}^C (c \\odot log \\, p)_{i, j}\n",
    "$ as follows:\n",
    "\n",
    "    J = negative(reduce_sum(reduce_sum(multiply(c, log(p)), axis=1)))\n"
   ]
  },
  {
   "cell_type": "markdown",
   "metadata": {},
   "source": [
    "### Example\n",
    "\n",
    "Let's now compute the loss of our red/blue perceptron."
   ]
  },
  {
   "cell_type": "code",
   "execution_count": 36,
   "metadata": {},
   "outputs": [
    {
     "name": "stdout",
     "output_type": "stream",
     "text": [
      "1.93977651159\n"
     ]
    }
   ],
   "source": [
    "# Create a new graph\n",
    "Graph().as_default()\n",
    "\n",
    "X = placeholder()\n",
    "c = placeholder()\n",
    "\n",
    "W = Variable([\n",
    "    [1, -1],\n",
    "    [1, -1]\n",
    "])\n",
    "b = Variable([0, 0])\n",
    "p = softmax( add(matmul(X, W), b) )\n",
    "\n",
    "# Cross-entropy loss\n",
    "J = negative(reduce_sum(reduce_sum(multiply(c, log(p)), axis=1)))\n",
    "\n",
    "session = Session()\n",
    "print(session.run(J, {\n",
    "    X: np.concatenate((blue_points, red_points)),\n",
    "    c:\n",
    "        [[1, 0]] * len(blue_points)\n",
    "        + [[0, 1]] * len(red_points)\n",
    "    \n",
    "}))"
   ]
  },
  {
   "cell_type": "markdown",
   "metadata": {},
   "source": [
    "# Gradient descent\n",
    "\n",
    "Generally, if we want to find the minimum of a function, we set the derivative to zero and solve for the parameters. It turns out, however, that it is impossible to obtain a closed-form solution for $W$ and $b$. Instead, we iteratively search for a minimum using a method called <b>gradient descent</b>.\n",
    "\n",
    "As a visual analogy, imagine yourself standing on a mountain and trying to find the way down. At every step, you walk into the steepest direction, since this direction is the most promising to lead you towards the bottom.\n",
    "\n",
    "<img src=\"gradient_descent.png\" style=\"width: 400px;\">\n",
    "\n",
    "If taking steep steps seems a little dangerous to you, imagine that you are a mountain goat (which are <a href=\"https://www.youtube.com/watch?v=hZWxlxrIWus\">amazing rock climbers</a>).\n",
    "\n",
    "Gradient descent operates in a similar way when trying to find the minimum of a function: It starts at a random location in parameter space and then iteratively reduces the error $J$ until it reaches a local minimum. At each step of the iteration, it determines the direction of steepest descent and takes a step along that direction. This process is depicted for the 1-dimensional case in the following image.\n",
    "\n",
    "<img src=\"gradient_descent_2.png?123\" style=\"width: 400px;\">\n",
    "\n",
    "As you might remember, the direction of steepest ascent of a function at a certain point is given by the gradient at that point. Therefore, the direction of steepest descent is given by the negative of the gradient. So now we have a rough idea how to minimize $J$:\n",
    "1. Start with random values for $W$ and $b$\n",
    "2. Compute the gradients of $J$ with respect to $W$ and $b$\n",
    "3. Take a small step along the direction of the negative gradient\n",
    "4. Go back to 2\n",
    "\n",
    "Let's implement an operation that minimizes the value of a node using gradient descent. We require the user to specify the magnitude of the step along the gradient as a parameter called `learning_rate`."
   ]
  },
  {
   "cell_type": "code",
   "execution_count": 37,
   "metadata": {
    "collapsed": true
   },
   "outputs": [],
   "source": [
    "from queue import Queue\n",
    "\n",
    "class GradientDescentOptimizer:\n",
    "    \n",
    "    def __init__(self, learning_rate):\n",
    "        self.learning_rate = learning_rate\n",
    "        \n",
    "    def minimize(self, loss):\n",
    "        learning_rate = self.learning_rate\n",
    "        class MinimizationOperation(Operation):\n",
    "            def compute(self):\n",
    "                # Compute gradients\n",
    "                grad_table = compute_gradients(loss)\n",
    "                \n",
    "                # Iterate all variables\n",
    "                for node in grad_table:\n",
    "                    if type(node) == Variable:\n",
    "                        # Retrieve gradient for this variable\n",
    "                        grad = grad_table[node]\n",
    "                                                \n",
    "                        # Take a step along the direction of the negative gradient\n",
    "                        node.value -= learning_rate * grad\n",
    "                \n",
    "                \n",
    "        return MinimizationOperation()"
   ]
  },
  {
   "cell_type": "markdown",
   "metadata": {},
   "source": [
    "The following image depicts an example iteration of gradient descent. We start out with a random separating line (marked as 1), take a step, arrive at a slightly better line (marked as 2), take another step, and another step, and so on until we arrive at a good separating line.\n",
    "\n",
    "<img src=\"gradient_descent_3.png\" style=\"height: 250px;\">\n",
    "\n",
    "# Backpropagation\n",
    "\n",
    "In our implementation of gradient descent, we have used a function `compute_gradient(loss)` that computes the gradient of a $loss$ operation in our computational graph with respect to the output of every other node $n$ (i.e. the direction of change for $n$ along which the loss increases the most). We now need to figure out how to compute gradients.\n",
    "\n",
    "Consider the following computational graph:\n",
    "\n",
    "<img src=\"abcde.png\" style=\"height: 70px;\">\n",
    "\n",
    "By the <a href=\"https://en.wikipedia.org/wiki/Chain_rule\">chain rule</a>, we have\n",
    "\n",
    "$$\\frac{\\partial e}{\\partial a} = \\frac{\\partial e}{\\partial b} \\cdot \\frac{\\partial b}{\\partial a} = \\frac{\\partial e}{\\partial c} \\cdot \\frac{\\partial c}{\\partial b} \\cdot \\frac{\\partial b}{\\partial a} = \\frac{\\partial e}{\\partial d} \\cdot \\frac{\\partial d}{\\partial c} \\cdot \\frac{\\partial c}{\\partial b} \\cdot \\frac{\\partial b}{\\partial a}$$\n",
    "\n",
    "As we can see, in order to compute the gradient of $e$ with respect to $a$, we can start at $e$ an go backwards towards $a$, computing the gradient of every node's output with respect to its input along the way until we reach $a$. Then, we multiply them all together.\n",
    "\n",
    "Now consider the following scenario:\n",
    "\n",
    "<img src=\"abcde2.png\" style=\"height: 160px;\">"
   ]
  },
  {
   "cell_type": "markdown",
   "metadata": {},
   "source": [
    "In this case, $a$ contributes to $e$ along two paths: The path $a$, $b$, $d$, $e$ and the path $a$, $b$, $c$, $e$. Hence, the <a href=\"https://en.wikipedia.org/wiki/Total_derivative\">total derivative</a> of $e$ with respect to $a$ is given by:\n",
    "\n",
    "$$\n",
    "\\frac{\\partial e}{\\partial a}\n",
    "= \\frac{\\partial e}{\\partial d} \\cdot \\frac{\\partial d}{\\partial a}\n",
    "= \\frac{\\partial e}{\\partial d} \\cdot \\left( \\frac{\\partial d}{\\partial b} \\cdot \\frac{\\partial b}{\\partial a} + \\frac{\\partial d}{\\partial c} \\cdot \\frac{\\partial c}{\\partial a} \\right)\n",
    "= \\frac{\\partial e}{\\partial d} \\cdot \\frac{\\partial d}{\\partial b} \\cdot \\frac{\\partial b}{\\partial a} + \\frac{\\partial e}{\\partial d} \\cdot \\frac{\\partial d}{\\partial c} \\cdot \\frac{\\partial c}{\\partial a}\n",
    "$$\n",
    "\n",
    "This gives as an intuition for the general algorithm that computes the gradient of the loss with respect to another node: We perform a backwards <a href=\"https://en.wikipedia.org/wiki/Breadth-first_search\">breadth-first search</a> starting from the loss node. At each node $n$ that we visit, we do the following for each of its consumers:\n",
    "- retrieve the gradient $G$ of the loss with respect to the output of the consumer\n",
    "- multiply $G$ by the gradient of the consumer's output with respect to $n$'s output\n",
    "\n",
    "And then we sum those gradients over all consumers.\n",
    "\n",
    "As a prerequisite to implementing backpropagation, we need to specify a function for each operation that computes the gradients with respect to the inputs of that operation, given the gradients with respect to the output. Let's define a decorator `@RegisterGradient(operation_name)` for this purpose:"
   ]
  },
  {
   "cell_type": "code",
   "execution_count": 38,
   "metadata": {
    "collapsed": true
   },
   "outputs": [],
   "source": [
    "# A dictionary that will map operations to gradient functions\n",
    "_gradient_registry = {}\n",
    "            \n",
    "class RegisterGradient:\n",
    "    \"\"\"A decorator for registering the gradient function for an op type.\n",
    "    \"\"\"\n",
    "\n",
    "    def __init__(self, op_type):\n",
    "        \"\"\"Creates a new decorator with `op_type` as the Operation type.\n",
    "        Args:\n",
    "          op_type: The name of an operation\n",
    "        \"\"\"\n",
    "        self._op_type = eval(op_type)\n",
    "\n",
    "    def __call__(self, f):\n",
    "        \"\"\"Registers the function `f` as gradient function for `op_type`.\"\"\"\n",
    "        _gradient_registry[self._op_type] = f\n",
    "        return f"
   ]
  },
  {
   "cell_type": "markdown",
   "metadata": {},
   "source": [
    "Now assume that our `_gradient_registry` dictionary is already filled with gradient computation functions for all of our operations. We can now implement backpropagation:"
   ]
  },
  {
   "cell_type": "code",
   "execution_count": 39,
   "metadata": {},
   "outputs": [],
   "source": [
    "from queue import Queue\n",
    "\n",
    "def compute_gradients(loss):\n",
    "\n",
    "    # grad_table[node] will contain the gradient of the loss w.r.t. the node's output\n",
    "    grad_table = {}\n",
    "\n",
    "    # The gradient of the loss with respect to the loss is just 1\n",
    "    grad_table[loss] = 1\n",
    "\n",
    "    # Perform a breadth-first search, backwards from the loss\n",
    "    visited = set()\n",
    "    queue = Queue()\n",
    "    visited.add(loss)\n",
    "    queue.put(loss)\n",
    "\n",
    "    while not queue.empty():\n",
    "        node = queue.get()\n",
    "\n",
    "        # If this node is not the loss\n",
    "        if node != loss:\n",
    "            #\n",
    "            # Compute the gradient of the loss with respect to this node's output\n",
    "            #\n",
    "            grad_table[node] = 0\n",
    "\n",
    "            # Iterate all consumers\n",
    "            for consumer in node.consumers:\n",
    "\n",
    "                # Retrieve the gradient of the loss w.r.t. consumer's output\n",
    "                lossgrad_wrt_consumer_output = grad_table[consumer]\n",
    "\n",
    "                # Retrieve the function which computes gradients with respect to\n",
    "                # consumer's inputs given gradients with respect to consumer's output.\n",
    "                consumer_op_type = consumer.__class__\n",
    "                bprop = _gradient_registry[consumer_op_type]\n",
    "\n",
    "                # Get the gradient of the loss with respect to all of consumer's inputs\n",
    "                lossgrads_wrt_consumer_inputs = bprop(consumer, lossgrad_wrt_consumer_output)\n",
    "                \n",
    "                if len(consumer.input_nodes) == 1:\n",
    "                    # If there is a single input node to the consumer, lossgrads_wrt_consumer_inputs is a scalar\n",
    "                    grad_table[node] += lossgrads_wrt_consumer_inputs\n",
    "                    \n",
    "                else:\n",
    "                    # Otherwise, lossgrads_wrt_consumer_inputs is an array of gradients for each input node\n",
    "                \n",
    "                    # Retrieve the index of node in consumer's inputs\n",
    "                    node_index_in_consumer_inputs = consumer.input_nodes.index(node)\n",
    "\n",
    "                    # Get the gradient of the loss with respect to node\n",
    "                    lossgrad_wrt_node = lossgrads_wrt_consumer_inputs[node_index_in_consumer_inputs]\n",
    "\n",
    "                    # Add to total gradient\n",
    "                    grad_table[node] += lossgrad_wrt_node\n",
    "\n",
    "        #\n",
    "        # Append each input node to the queue\n",
    "        #\n",
    "        if hasattr(node, \"input_nodes\"):\n",
    "            for input_node in node.input_nodes:\n",
    "                if not input_node in visited:\n",
    "                    visited.add(input_node)\n",
    "                    queue.put(input_node)\n",
    "            \n",
    "    # Return gradients for each visited node\n",
    "    return grad_table"
   ]
  },
  {
   "cell_type": "markdown",
   "metadata": {},
   "source": [
    "## Gradient of each operation\n",
    "\n",
    "For each of our operations, we now need to define a function that turns a gradient of the loss with respect to the operation's output into a list of gradients of the loss with respect to each of the operation's inputs. Computing a gradient with respect to a matrix can be somewhat tedious. Therefore, the details have been omitted and I just present the results. You may skip this section and still understand the overall picture.\n",
    "\n",
    "If you want to comprehend how to arrive at the results, the general approach is as follows:\n",
    "- Find the partial derivative of each output value with respect to each input value (this can be a tensor of a rank greater than 2, i.e. neither scalar nor vector nor matrix, involving a lot of summations)\n",
    "- Compute the gradient of the loss with respect to the node's inputs given a gradient with respect to the node's output by applying the chain rule. This is now a tensor of the same shape as the input tensor, so if the input is a matrix, the result is also a matrix\n",
    "- Rewrite this result as a sequence of matrix operations in order to compute it efficiently. This step can be somewhat tricky.\n",
    "\n",
    "### Gradient for `add`\n",
    "Given a gradient $G$ with respect to $a + b$, the gradient with respect to $a$ is given by $G$ and the gradient with respect to $b$ is also given by $G$, provided that $a$ and $b$ are of the same shape. If $a$ and $b$ are of different shapes, e.g. one matrix $a$ with 100 rows and one row vector $b$, we assume that $b$ is added to each row of $a$. In this case, the gradient computation is a little more involved, but I will not spell out the details here."
   ]
  },
  {
   "cell_type": "code",
   "execution_count": 40,
   "metadata": {
    "collapsed": true
   },
   "outputs": [],
   "source": [
    "@RegisterGradient(\"add\")\n",
    "def _add_gradient(op, grad):\n",
    "    \"\"\"Computes the gradients for `add`.\n",
    "\n",
    "    Args:\n",
    "      op: The `add` `Operation` that we are differentiating\n",
    "      grad: Gradient with respect to the output of the `add` op.\n",
    "\n",
    "    Returns:\n",
    "      Gradients with respect to the input of `add`.\n",
    "    \"\"\"\n",
    "    a = op.inputs[0]\n",
    "    b = op.inputs[1]\n",
    "    \n",
    "    grad_wrt_a = grad\n",
    "    while np.ndim(grad_wrt_a) > len(a.shape):\n",
    "        grad_wrt_a = np.sum(grad_wrt_a, axis=0)\n",
    "    for axis, size in enumerate(a.shape):\n",
    "        if size == 1:\n",
    "            grad_wrt_a = np.sum(grad_wrt_a, axis=axis, keepdims=True)\n",
    "    \n",
    "    grad_wrt_b = grad\n",
    "    while np.ndim(grad_wrt_b) > len(b.shape):\n",
    "        grad_wrt_b = np.sum(grad_wrt_b, axis=0)\n",
    "    for axis, size in enumerate(b.shape):\n",
    "        if size == 1:\n",
    "            grad_wrt_b = np.sum(grad_wrt_b, axis=axis, keepdims=True)\n",
    "    \n",
    "    return [grad_wrt_a, grad_wrt_b]"
   ]
  },
  {
   "cell_type": "markdown",
   "metadata": {},
   "source": [
    "### Gradient for `matmul`\n",
    "\n",
    "Given a gradient $G$ with respect to $AB$, the gradient with respect to $A$ is given by $GB^T$ and the gradient with respect to $B$ is given by $A^TG$."
   ]
  },
  {
   "cell_type": "code",
   "execution_count": 41,
   "metadata": {
    "collapsed": true
   },
   "outputs": [],
   "source": [
    "@RegisterGradient(\"matmul\")\n",
    "def _matmul_gradient(op, grad):\n",
    "    \"\"\"Computes the gradients for `matmul`.\n",
    "\n",
    "    Args:\n",
    "      op: The `matmul` `Operation` that we are differentiating\n",
    "      grad: Gradient with respect to the output of the `matmul` op.\n",
    "\n",
    "    Returns:\n",
    "      Gradients with respect to the input of `matmul`.\n",
    "    \"\"\"\n",
    "\n",
    "    A = op.inputs[0]\n",
    "    B = op.inputs[1]\n",
    "\n",
    "    return [grad.dot(B.T), A.T.dot(grad)]"
   ]
  },
  {
   "cell_type": "markdown",
   "metadata": {},
   "source": [
    "### Gradient for `sigmoid`\n",
    "\n",
    "Given a gradient $G$ with respect to $\\sigma(a)$, the gradient with respect to $a$ is given by $G \\cdot \\sigma(a) \\cdot \\sigma(1-a)$."
   ]
  },
  {
   "cell_type": "code",
   "execution_count": 51,
   "metadata": {
    "collapsed": true
   },
   "outputs": [],
   "source": [
    "@RegisterGradient(\"sigmoid\")\n",
    "def _sigmoid_gradient(op, grad):\n",
    "    \"\"\"Computes the gradients for `sigmoid`.\n",
    "\n",
    "    Args:\n",
    "      op: The `sigmoid` `Operation` that we are differentiating\n",
    "      grad: Gradient with respect to the output of the `sigmoid` op.\n",
    "\n",
    "    Returns:\n",
    "      Gradients with respect to the input of `sigmoid`.\n",
    "    \"\"\"\n",
    "    \n",
    "    sigmoid = op.output\n",
    "\n",
    "    return grad * sigmoid * (1-sigmoid)"
   ]
  },
  {
   "cell_type": "markdown",
   "metadata": {},
   "source": [
    "### Gradient for `softmax`\n"
   ]
  },
  {
   "cell_type": "code",
   "execution_count": 42,
   "metadata": {},
   "outputs": [],
   "source": [
    "@RegisterGradient(\"softmax\")\n",
    "def _softmax_gradient(op, grad):\n",
    "    \"\"\"Computes the gradients for `softmax`.\n",
    "\n",
    "    Args:\n",
    "      op: The `softmax` `Operation` that we are differentiating\n",
    "      grad: Gradient with respect to the output of the `softmax` op.\n",
    "\n",
    "    Returns:\n",
    "      Gradients with respect to the input of `softmax`.\n",
    "    \"\"\"\n",
    "    \n",
    "    softmax = op.output\n",
    "    return (grad - np.reshape(\n",
    "        np.sum(grad * softmax, 1),\n",
    "        [-1, 1]\n",
    "    )) * softmax"
   ]
  },
  {
   "cell_type": "markdown",
   "metadata": {},
   "source": [
    "### Gradient for `log`\n",
    "\n",
    "Given a gradient $G$ with respect to $log(x)$, the gradient with respect to $x$ is given by $\\frac{G}{x}$."
   ]
  },
  {
   "cell_type": "code",
   "execution_count": 43,
   "metadata": {
    "collapsed": true
   },
   "outputs": [],
   "source": [
    "@RegisterGradient(\"log\")\n",
    "def _log_gradient(op, grad):\n",
    "    \"\"\"Computes the gradients for `log`.\n",
    "\n",
    "    Args:\n",
    "      op: The `log` `Operation` that we are differentiating\n",
    "      grad: Gradient with respect to the output of the `log` op.\n",
    "\n",
    "    Returns:\n",
    "      Gradients with respect to the input of `log`.\n",
    "    \"\"\"\n",
    "    x = op.inputs[0]\n",
    "    return grad/x"
   ]
  },
  {
   "cell_type": "markdown",
   "metadata": {},
   "source": [
    "### Gradient for `multiply`\n",
    "\n",
    "Given a gradient $G$ with respect to $A \\odot B$, the gradient with respect to $A$ is given by $G \\odot B$ and the gradient with respect to $B$ is given by $G \\odot A$."
   ]
  },
  {
   "cell_type": "code",
   "execution_count": 44,
   "metadata": {
    "collapsed": true
   },
   "outputs": [],
   "source": [
    "@RegisterGradient(\"multiply\")\n",
    "def _multiply_gradient(op, grad):\n",
    "    \"\"\"Computes the gradients for `multiply`.\n",
    "\n",
    "    Args:\n",
    "      op: The `multiply` `Operation` that we are differentiating\n",
    "      grad: Gradient with respect to the output of the `multiply` op.\n",
    "\n",
    "    Returns:\n",
    "      Gradients with respect to the input of `multiply`.\n",
    "    \"\"\"\n",
    "\n",
    "    A = op.inputs[0]\n",
    "    B = op.inputs[1]\n",
    "\n",
    "    return [grad * B, grad * A]"
   ]
  },
  {
   "cell_type": "markdown",
   "metadata": {},
   "source": [
    "### Gradient for `reduce_sum`\n",
    "\n",
    "Given a gradient $G$ with respect to the output of `reduce_sum`, the gradient with respect to the input $A$ is given by repeating $G$ along the specified axis."
   ]
  },
  {
   "cell_type": "code",
   "execution_count": 45,
   "metadata": {
    "collapsed": true
   },
   "outputs": [],
   "source": [
    "@RegisterGradient(\"reduce_sum\")\n",
    "def _reduce_sum_gradient(op, grad):\n",
    "    \"\"\"Computes the gradients for `reduce_sum`.\n",
    "\n",
    "    Args:\n",
    "      op: The `reduce_sum` `Operation` that we are differentiating\n",
    "      grad: Gradient with respect to the output of the `reduce_sum` op.\n",
    "\n",
    "    Returns:\n",
    "      Gradients with respect to the input of `reduce_sum`.\n",
    "    \"\"\"\n",
    "    A = op.inputs[0]\n",
    "\n",
    "    output_shape = np.array(A.shape)\n",
    "    output_shape[op.axis] = 1\n",
    "    tile_scaling = A.shape // output_shape\n",
    "    grad = np.reshape(grad, output_shape)\n",
    "    return np.tile(grad, tile_scaling)"
   ]
  },
  {
   "cell_type": "markdown",
   "metadata": {},
   "source": [
    "### Gradient for `negative`\n",
    "\n",
    "Given a gradient $G$ with respect to $-x$, the gradient with respect to $x$ is given by $-G$."
   ]
  },
  {
   "cell_type": "code",
   "execution_count": 46,
   "metadata": {},
   "outputs": [],
   "source": [
    "@RegisterGradient(\"negative\")\n",
    "def _negative_gradient(op, grad):\n",
    "    \"\"\"Computes the gradients for `negative`.\n",
    "\n",
    "    Args:\n",
    "      op: The `negative` `Operation` that we are differentiating\n",
    "      grad: Gradient with respect to the output of the `negative` op.\n",
    "\n",
    "    Returns:\n",
    "      Gradients with respect to the input of `negative`.\n",
    "    \"\"\"\n",
    "    return -grad"
   ]
  },
  {
   "cell_type": "markdown",
   "metadata": {
    "collapsed": true
   },
   "source": [
    "## Example\n",
    "\n",
    "Let's now test our implementation to determine the optimal weights for our perceptron."
   ]
  },
  {
   "cell_type": "code",
   "execution_count": 47,
   "metadata": {},
   "outputs": [
    {
     "name": "stdout",
     "output_type": "stream",
     "text": [
      "Step: 0  Loss: 202.782788396\n",
      "Step: 10  Loss: 4.04566479054\n",
      "Step: 20  Loss: 2.69644468305\n",
      "Step: 30  Loss: 2.00506261735\n",
      "Step: 40  Loss: 1.62202006027\n",
      "Step: 50  Loss: 1.39268559111\n",
      "Step: 60  Loss: 1.24498439759\n",
      "Step: 70  Loss: 1.14348265257\n",
      "Step: 80  Loss: 1.06965484385\n",
      "Step: 90  Loss: 1.01324253829\n",
      "Weight matrix:\n",
      " [[ 1.27496197 -1.77251219]\n",
      " [ 1.11820232 -2.01586474]]\n",
      "Bias:\n",
      " [-0.45274057 -0.39071841]\n"
     ]
    }
   ],
   "source": [
    "# Create a new graph\n",
    "Graph().as_default()\n",
    "\n",
    "X = placeholder()\n",
    "c = placeholder()\n",
    "\n",
    "# Initialize weights randomly\n",
    "W = Variable(np.random.randn(2, 2))\n",
    "b = Variable(np.random.randn(2))\n",
    "\n",
    "# Build perceptron\n",
    "p = softmax( add(matmul(X, W), b) )\n",
    "\n",
    "# Build cross-entropy loss\n",
    "J = negative(reduce_sum(reduce_sum(multiply(c, log(p)), axis=1)))\n",
    "\n",
    "# Build minimization op\n",
    "minimization_op = GradientDescentOptimizer(learning_rate = 0.01).minimize(J)\n",
    "\n",
    "# Build placeholder inputs\n",
    "feed_dict = {\n",
    "    X: np.concatenate((blue_points, red_points)),\n",
    "    c:\n",
    "        [[1, 0]] * len(blue_points)\n",
    "        + [[0, 1]] * len(red_points)\n",
    "    \n",
    "}\n",
    "\n",
    "# Create session\n",
    "session = Session()\n",
    "\n",
    "# Perform 100 gradient descent steps\n",
    "for step in range(100):\n",
    "    J_value = session.run(J, feed_dict)\n",
    "    if step % 10 == 0:\n",
    "        print(\"Step:\", step, \" Loss:\", J_value)\n",
    "    session.run(minimization_op, feed_dict)\n",
    "\n",
    "# Print final result\n",
    "W_value = session.run(W)\n",
    "print(\"Weight matrix:\\n\", W_value)\n",
    "b_value = session.run(b)\n",
    "print(\"Bias:\\n\", b_value)"
   ]
  },
  {
   "cell_type": "markdown",
   "metadata": {},
   "source": [
    "Notice that we started out with a rather high loss and incrementally reduced it. Let's plot the final line to check that it is a good separator:"
   ]
  },
  {
   "cell_type": "code",
   "execution_count": 48,
   "metadata": {},
   "outputs": [
    {
     "data": {
      "image/png": "[encoded data removed]",
      "text/plain": [
       "<matplotlib.figure.Figure at 0x11ab9d1d0>"
      ]
     },
     "metadata": {},
     "output_type": "display_data"
    }
   ],
   "source": [
    "# Plot a line y = -x\n",
    "x_axis = np.linspace(-4, 4, 100)\n",
    "y_axis = -W_value[0][0]/W_value[1][0] * x_axis - b_value[0]/W_value[1][0]\n",
    "plt.plot(x_axis, y_axis)\n",
    "\n",
    "# Add the red and blue points\n",
    "plt.scatter(red_points[:,0], red_points[:,1], color='red')\n",
    "plt.scatter(blue_points[:,0], blue_points[:,1], color='blue')\n",
    "plt.show()"
   ]
  },
  {
   "cell_type": "markdown",
   "metadata": {},
   "source": [
    "# Multi-layer perceptrons\n",
    "\n",
    "## Motivation\n",
    "\n",
    "So now we are able to train linear classifiers of arbitrary dimensionality automatically. However, many real-world classes are not linearly separable. This means that there does not exist any line with all the points of the first class on one side of the line and all the points of the other class on the other side. Let's illustrate this with an example."
   ]
  },
  {
   "cell_type": "code",
   "execution_count": 49,
   "metadata": {},
   "outputs": [
    {
     "data": {
      "image/png": "[encoded data removed]",
      "text/plain": [
       "<matplotlib.figure.Figure at 0x11a43a0f0>"
      ]
     },
     "metadata": {},
     "output_type": "display_data"
    }
   ],
   "source": [
    "# Create two clusters of red points centered at (0, 0) and (1, 1), respectively.\n",
    "red_points = np.concatenate((\n",
    "    0.2*np.random.randn(25, 2) + np.array([[0, 0]]*25),\n",
    "    0.2*np.random.randn(25, 2) + np.array([[1, 1]]*25)\n",
    "))\n",
    "\n",
    "# Create two clusters of blue points centered at (0, 1) and (1, 0), respectively.\n",
    "blue_points = np.concatenate((\n",
    "    0.2*np.random.randn(25, 2) + np.array([[0, 1]]*25),\n",
    "    0.2*np.random.randn(25, 2) + np.array([[1, 0]]*25)\n",
    "))\n",
    "\n",
    "# Plot them\n",
    "plt.scatter(red_points[:,0], red_points[:,1], color='red')\n",
    "plt.scatter(blue_points[:,0], blue_points[:,1], color='blue')\n",
    "plt.show()"
   ]
  },
  {
   "cell_type": "markdown",
   "metadata": {},
   "source": [
    "As we can see, it is impossible to draw a line that separates the blue points from the red points. Instead, our decision boundary has to have a rather complex shape. This is where multi-layer perceptrons come into play: They allow us to train a decision boundary of a more complex shape than a straight line.\n",
    "\n",
    "## Computational graph\n",
    "\n",
    "As their name suggests, multi-layer perceptrons (MLPs) are composed of multiple perceptrons stacked one after the other in a layer-wise fashion. Let's look at a visualization of the computational graph:\n",
    "\n",
    "<img src=\"mlp.png?2\">\n",
    "\n",
    "As we can see, the input is fed into the first layer, which is a multidimensional perceptron with a weight matrix $W_1$ and bias vector $b_1$. The output of that layer is then fed into second layer, which is again a perceptron with another weight matrix $W_2$ and bias vector $b_2$. This process continues for every of the $L$ layers until we reach the output layer. We refer to the last layer as the <b>output layer</b> and to every other layer as a <b>hidden layer</b>.\n",
    "\n",
    "an MLP with one hidden layers computes the function\n",
    "\n",
    "$$\\sigma(\\sigma(X \\, W_1 + b_1) W_2 + b_2) \\,,$$\n",
    "\n",
    "an MLP with two hidden layers computes the function\n",
    "\n",
    "$$\\sigma(\\sigma(\\sigma(X \\, W_1 + b_1) W_2 + b_2) \\, W_3 \\,,$$\n",
    "\n",
    "and, generally, an MLP with $L-1$ hidden layers computes the function\n",
    "\n",
    "$$\\sigma(\\sigma( \\cdots \\sigma(\\sigma(X \\, W_1 + b_1) W_2 + b_2) \\cdots) \\, W_L + b_L) \\,.$$\n",
    "\n",
    "## Implementation\n",
    "\n",
    "Using the library we have built, we can now easily implement multi-layer perceptrons without further work."
   ]
  },
  {
   "cell_type": "code",
   "execution_count": 52,
   "metadata": {},
   "outputs": [
    {
     "name": "stdout",
     "output_type": "stream",
     "text": [
      "Step: 0  Loss: 204.794853521\n",
      "Step: 100  Loss: 24.5875895132\n",
      "Step: 200  Loss: 19.3834164328\n",
      "Step: 300  Loss: 18.5417510177\n",
      "Step: 400  Loss: 18.1508174765\n",
      "Step: 500  Loss: 17.9190202357\n",
      "Step: 600  Loss: 17.7638704135\n",
      "Step: 700  Loss: 17.6519581341\n",
      "Step: 800  Loss: 17.5669493256\n",
      "Step: 900  Loss: 17.499848539\n",
      "Hidden layer weight matrix:\n",
      " [[ 3.81177127  7.54753546]\n",
      " [-3.81063897 -8.22017527]]\n",
      "Hidden layer bias:\n",
      " [-3.61945898  5.13708263]\n",
      "Output layer weight matrix:\n",
      " [[ 7.01720731 -5.87228322]\n",
      " [-4.49388731  7.14992648]]\n",
      "Output layer bias:\n",
      " [ 4.16129061 -3.93433668]\n"
     ]
    }
   ],
   "source": [
    "# Create a new graph\n",
    "Graph().as_default()\n",
    "\n",
    "# Create training input placeholder\n",
    "X = placeholder()\n",
    "\n",
    "# Create placeholder for the training classes\n",
    "c = placeholder()\n",
    "\n",
    "# Build a hidden layer\n",
    "W_hidden = Variable(np.random.randn(2, 2))\n",
    "b_hidden = Variable(np.random.randn(2))\n",
    "p_hidden = sigmoid( add(matmul(X, W_hidden), b_hidden) )\n",
    "\n",
    "# Build the output layer\n",
    "W_output = Variable(np.random.randn(2, 2))\n",
    "b_output = Variable(np.random.randn(2))\n",
    "p_output = softmax( add(matmul(p_hidden, W_output), b_output) )\n",
    "\n",
    "# Build cross-entropy loss\n",
    "J = negative(reduce_sum(reduce_sum(multiply(c, log(p_output)), axis=1)))\n",
    "\n",
    "# Build minimization op\n",
    "minimization_op = GradientDescentOptimizer(learning_rate = 0.03).minimize(J)\n",
    "\n",
    "# Build placeholder inputs\n",
    "feed_dict = {\n",
    "    X: np.concatenate((blue_points, red_points)),\n",
    "    c:\n",
    "        [[1, 0]] * len(blue_points)\n",
    "        + [[0, 1]] * len(red_points)\n",
    "    \n",
    "}\n",
    "\n",
    "# Create session\n",
    "session = Session()\n",
    "\n",
    "# Perform 100 gradient descent steps\n",
    "for step in range(1000):\n",
    "    J_value = session.run(J, feed_dict)\n",
    "    if step % 100 == 0:\n",
    "        print(\"Step:\", step, \" Loss:\", J_value)\n",
    "    session.run(minimization_op, feed_dict)\n",
    "\n",
    "# Print final result\n",
    "W_hidden_value = session.run(W_hidden)\n",
    "print(\"Hidden layer weight matrix:\\n\", W_hidden_value)\n",
    "b_hidden_value = session.run(b_hidden)\n",
    "print(\"Hidden layer bias:\\n\", b_hidden_value)\n",
    "W_output_value = session.run(W_output)\n",
    "print(\"Output layer weight matrix:\\n\", W_output_value)\n",
    "b_output_value = session.run(b_output)\n",
    "print(\"Output layer bias:\\n\", b_output_value)"
   ]
  },
  {
   "cell_type": "markdown",
   "metadata": {},
   "source": [
    "Let's now visualize the decision boundary:"
   ]
  },
  {
   "cell_type": "code",
   "execution_count": 53,
   "metadata": {},
   "outputs": [
    {
     "data": {
      "image/png": "[encoded data removed]",
      "text/plain": [
       "<matplotlib.figure.Figure at 0x11afef240>"
      ]
     },
     "metadata": {},
     "output_type": "display_data"
    }
   ],
   "source": [
    "# Visualize classification boundary\n",
    "xs = np.linspace(-2, 2)\n",
    "ys = np.linspace(-2, 2)\n",
    "pred_classes = []\n",
    "for x in xs:\n",
    "    for y in ys:\n",
    "        pred_class = session.run(p_output,\n",
    "                              feed_dict={X: [[x, y]]})[0]\n",
    "        pred_classes.append((x, y, pred_class.argmax()))\n",
    "xs_p, ys_p = [], []\n",
    "xs_n, ys_n = [], []\n",
    "for x, y, c in pred_classes:\n",
    "    if c == 0:\n",
    "        xs_n.append(x)\n",
    "        ys_n.append(y)\n",
    "    else:\n",
    "        xs_p.append(x)\n",
    "        ys_p.append(y)\n",
    "plt.plot(xs_p, ys_p, 'ro', xs_n, ys_n, 'bo')\n",
    "plt.show()"
   ]
  },
  {
   "cell_type": "code",
   "execution_count": null,
   "metadata": {
    "collapsed": true
   },
   "outputs": [],
   "source": []
  }
 ],
 "metadata": {
  "kernelspec": {
   "display_name": "Python 3 (ipykernel)",
   "language": "python",
   "name": "python3"
  },
  "language_info": {
   "codemirror_mode": {
    "name": "ipython",
    "version": 3
   },
   "file_extension": ".py",
   "mimetype": "text/x-python",
   "name": "python",
   "nbconvert_exporter": "python",
   "pygments_lexer": "ipython3",
   "version": "3.7.16"
  }
 },
 "nbformat": 4,
 "nbformat_minor": 1
}
